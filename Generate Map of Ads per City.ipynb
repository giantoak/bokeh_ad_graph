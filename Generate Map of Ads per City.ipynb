{
 "cells": [
  {
   "cell_type": "code",
   "execution_count": 1,
   "metadata": {
    "collapsed": false
   },
   "outputs": [],
   "source": [
    "from bokeh.models import Circle\n",
    "from bokeh.plotting import figure, show, output_file\n",
    "from bokeh.sampledata.us_cities import data as cities\n",
    "from bokeh.sampledata.us_counties import data as counties\n",
    "from bokeh.sampledata.us_states import data as states\n",
    "import math\n",
    "import seaborn as sns\n",
    "\n",
    "elastic = {'dgreen': '#176655',\n",
    "           'lgreen': '#95c63d',\n",
    "           'pink': '#e9478c',\n",
    "           'purple': '#2c458f',\n",
    "           'teal': '#3cbeb1',\n",
    "           'yellow': '#f4bd19'}"
   ]
  },
  {
   "cell_type": "code",
   "execution_count": 2,
   "metadata": {
    "collapsed": true
   },
   "outputs": [],
   "source": [
    "df = pd.read_table('city_state_ads.tsv')"
   ]
  },
  {
   "cell_type": "code",
   "execution_count": 3,
   "metadata": {
    "collapsed": false
   },
   "outputs": [],
   "source": [
    "def rgb_to_hex(rgb):\n",
    "    \"\"\"helper func to deal with some seaborn-to-bokeh weirdness\"\"\"\n",
    "    return '#%02x%02x%02x' % tuple(max(0, min(255, int(255*x))) for x in rgb[:3])\n",
    "\n",
    "# Palettes for circle interiors and borders (assumes we want a color gradient)\n",
    "circ_fill_pltt = [rgb_to_hex(x) for x in sns.light_palette(elastic['dgreen'], 200)][100:]\n",
    "circ_border_pltt = [rgb_to_hex(x) for x in sns.light_palette(elastic['lgreen'], 200)][100:]"
   ]
  },
  {
   "cell_type": "markdown",
   "metadata": {},
   "source": [
    "Create the plot and draw the background, turning gridlines and axes off."
   ]
  },
  {
   "cell_type": "code",
   "execution_count": 4,
   "metadata": {
    "collapsed": false
   },
   "outputs": [],
   "source": [
    "p = figure(title=\"Ads Per City\", toolbar_location=\"left\", plot_width=1100, plot_height=700)\n",
    "p.axis.visible = None\n",
    "p.background_fill_color = elastic['teal']\n",
    "p.xgrid.grid_line_color = None\n",
    "p.ygrid.grid_line_color = None"
   ]
  },
  {
   "cell_type": "markdown",
   "metadata": {},
   "source": [
    "Draw state backgrounds"
   ]
  },
  {
   "cell_type": "code",
   "execution_count": 5,
   "metadata": {
    "collapsed": false
   },
   "outputs": [
    {
     "data": {
      "text/plain": [
       "<bokeh.models.renderers.GlyphRenderer at 0x10b9ee8d0>"
      ]
     },
     "execution_count": 5,
     "metadata": {},
     "output_type": "execute_result"
    }
   ],
   "source": [
    "# Draw state backgrounds\n",
    "EXCLUDED = ('AK', 'HI')\n",
    "state_xs = [states[code][\"lons\"] for code in states if code not in EXCLUDED]\n",
    "state_ys = [states[code][\"lats\"] for code in states if code not in EXCLUDED]\n",
    "\n",
    "p.patches(state_xs, state_ys,\n",
    "          fill_alpha=1.0,\n",
    "          fill_color='#cccccc',\n",
    "          line_alpha=0.8,\n",
    "          line_color='#000000',\n",
    "          line_width=1)"
   ]
  },
  {
   "cell_type": "markdown",
   "metadata": {},
   "source": [
    "Draw patches for counties"
   ]
  },
  {
   "cell_type": "code",
   "execution_count": 6,
   "metadata": {
    "collapsed": false
   },
   "outputs": [
    {
     "data": {
      "text/plain": [
       "<bokeh.models.renderers.GlyphRenderer at 0x11ba93ed0>"
      ]
     },
     "execution_count": 6,
     "metadata": {},
     "output_type": "execute_result"
    }
   ],
   "source": [
    "# Don't need these counties\n",
    "EXCLUDED = (\"ak\", \"hi\", \"pr\", \"gu\", \"vi\", \"mp\", \"as\")\n",
    "county_xs = [counties[code][\"lons\"] for code in counties if counties[code][\"state\"] not in EXCLUDED]\n",
    "county_ys = [counties[code][\"lats\"] for code in counties if counties[code][\"state\"] not in EXCLUDED]\n",
    "\n",
    "p.patches(county_xs, county_ys,\n",
    "          fill_alpha=0.0,\n",
    "          line_alpha=1.0,\n",
    "          line_color='#737f76',\n",
    "          line_width=0.5)"
   ]
  },
  {
   "cell_type": "markdown",
   "metadata": {},
   "source": [
    "Draw circles for cities."
   ]
  },
  {
   "cell_type": "code",
   "execution_count": 7,
   "metadata": {
    "collapsed": false
   },
   "outputs": [],
   "source": [
    "df = pd.read_table('city_state_ads.tsv')\n",
    "\n",
    "scalar= 70.\n",
    "max_ads = max(df.Ads)\n",
    "\n",
    "circles = df.apply(lambda x:\n",
    "                   Circle(x=x['Long'],\n",
    "                          y=x['Lat'],\n",
    "                          size=scalar*x['Ads']/max_ads+5,\n",
    "                          fill_alpha=min(0.9, max(0.6, 1.*x['Ads']/max_ads)),\n",
    "                          fill_color=circ_fill_pltt[min(99, int((100.*x['Ads']/max_ads)))],\n",
    "                          line_alpha=0.9,\n",
    "                          line_color=circ_fill_pltt[min(99, int(100.*x['Ads']/max_ads))],\n",
    "                          line_width=2.0),\n",
    "                   axis=1)\n",
    "\n",
    "for c in circles:\n",
    "    p.add_glyph(c)"
   ]
  },
  {
   "cell_type": "markdown",
   "metadata": {},
   "source": [
    "Write the graphic to a file and render the plot."
   ]
  },
  {
   "cell_type": "code",
   "execution_count": 8,
   "metadata": {
    "collapsed": false
   },
   "outputs": [],
   "source": [
    "output_file(\"ads_cities.html\", title=\"Map of Ads per City\")\n",
    "show(p)"
   ]
  },
  {
   "cell_type": "code",
   "execution_count": null,
   "metadata": {
    "collapsed": true
   },
   "outputs": [],
   "source": []
  }
 ],
 "metadata": {
  "kernelspec": {
   "display_name": "Python 2",
   "language": "python",
   "name": "python2"
  },
  "language_info": {
   "codemirror_mode": {
    "name": "ipython",
    "version": 2
   },
   "file_extension": ".py",
   "mimetype": "text/x-python",
   "name": "python",
   "nbconvert_exporter": "python",
   "pygments_lexer": "ipython2",
   "version": "2.7.11"
  }
 },
 "nbformat": 4,
 "nbformat_minor": 0
}
